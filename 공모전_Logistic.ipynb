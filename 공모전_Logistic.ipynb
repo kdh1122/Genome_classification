{
 "cells": [
  {
   "cell_type": "code",
   "execution_count": 2,
   "id": "monthly-politics",
   "metadata": {},
   "outputs": [
    {
     "name": "stdout",
     "output_type": "stream",
     "text": [
      "Done.\n",
      "[0 1 2 2 0 1 2 1 0 0 2 1 1 0 1 1 0 1 1 2 1 1 1 0 1 1 1 0 0 1 0 0 1 2 0 1 2\n",
      " 1 1 2 0 1 2 1 1 1 1 2 1 2 0 1 0 1 1 1 2 0 1 2 0 1 2 2 2 0 1 0 0 1 1 1 0 0\n",
      " 2 1 2 1 1 1 2 1 0 1 1 1 1 1 2 0 1 1 2 1 1 2 0 1 0 2 0 1 1 2 0 0 2 1 0 1 2\n",
      " 1 1 1 1 0 0 2 1 2 0 1 1 2 2 1 1 1 0 1 0 0 1 1 1 2 0 0 1 0 0 0 2 1 1 2 0 1\n",
      " 2 0 0 1 0 1 1 0 0 1 2 0 1 2 2 1 0 0 2 1 1 0 1 2 2 1 1]\n"
     ]
    }
   ],
   "source": [
    "from sklearn.metrics import accuracy_score\n",
    "from sklearn.linear_model import LogisticRegression\n",
    "\n",
    "#top 4 features로 model 만들어서 accuracy구하기\n",
    "import pandas as pd\n",
    "import random\n",
    "import os\n",
    "import numpy as np\n",
    "\n",
    "from sklearn.preprocessing import MaxAbsScaler\n",
    "from sklearn import preprocessing\n",
    "from sklearn.ensemble import RandomForestClassifier\n",
    "\n",
    "\n",
    "from sklearn.model_selection import train_test_split\n",
    "\n",
    "   \n",
    "train = pd.read_csv('./train.csv')\n",
    "test = pd.read_csv('./test.csv')\n",
    "\n",
    "def get_x_y(df):\n",
    "    if 'class' in df.columns:\n",
    "        df_x = df.drop(columns=['id', 'class'])\n",
    "        df_y = df['class']\n",
    "        return df_x, df_y\n",
    "    else:\n",
    "        df_x = df.drop(columns=['id'])\n",
    "        return df_x\n",
    "    \n",
    "    \n",
    "train_x, train_y = get_x_y(train)\n",
    "test_x = get_x_y(test)\n",
    "\n",
    "class_le = preprocessing.LabelEncoder()\n",
    "snp_le = preprocessing.LabelEncoder()\n",
    "snp_col = [f'SNP_{str(x).zfill(2)}' for x in range(1,16)]\n",
    "\n",
    "\n",
    "\n",
    "snp_data = []\n",
    "for col in snp_col:\n",
    "    snp_data += list(train_x[col].values)\n",
    "    \n",
    "    \n",
    "    \n",
    "train_y = class_le.fit_transform(train_y)\n",
    "snp_le.fit(snp_data)\n",
    "\n",
    "for col in train_x.columns:\n",
    "    if col in snp_col:\n",
    "        train_x[col] = snp_le.transform(train_x[col])\n",
    "        test_x[col] = snp_le.transform(test_x[col])\n",
    "    \n",
    "scaler = MaxAbsScaler()\n",
    "train_x[:] = scaler.fit_transform(train_x[:])\n",
    "test_x[:] = scaler.fit_transform(test_x[:])   \n",
    "    \n",
    "    \n",
    "clf = LogisticRegression()\n",
    "clf.fit(train_x, train_y)\n",
    "\n",
    "preds = clf.predict(test_x)\n",
    "print('Done.')\n",
    "print(preds)\n",
    "submit = pd.read_csv('./sample_submission.csv')\n",
    "submit['class'] = class_le.inverse_transform(preds)\n",
    "submit.to_csv('./answer/submit_MaxAbs.csv', index=False)\n",
    "\n",
    "#정답률 구하기\n",
    "#ac_score = accuracy_score(y_test,pre)\n",
    "#print(\"accuracy =\",ac_score)"
   ]
  }
 ],
 "metadata": {
  "kernelspec": {
   "display_name": "Python 3 (ipykernel)",
   "language": "python",
   "name": "python3"
  },
  "language_info": {
   "codemirror_mode": {
    "name": "ipython",
    "version": 3
   },
   "file_extension": ".py",
   "mimetype": "text/x-python",
   "name": "python",
   "nbconvert_exporter": "python",
   "pygments_lexer": "ipython3",
   "version": "3.9.7"
  }
 },
 "nbformat": 4,
 "nbformat_minor": 5
}
